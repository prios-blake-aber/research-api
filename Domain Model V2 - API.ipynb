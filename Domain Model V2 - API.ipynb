{
 "cells": [
  {
   "cell_type": "markdown",
   "metadata": {},
   "source": [
    "### Imports"
   ]
  },
  {
   "cell_type": "code",
   "execution_count": 1,
   "metadata": {},
   "outputs": [],
   "source": [
    "from src import objects"
   ]
  },
  {
   "cell_type": "markdown",
   "metadata": {},
   "source": [
    "### Define Sample Objects"
   ]
  },
  {
   "cell_type": "markdown",
   "metadata": {},
   "source": [
    "#### Instantiate People"
   ]
  },
  {
   "cell_type": "code",
   "execution_count": 2,
   "metadata": {},
   "outputs": [],
   "source": [
    "vin = objects.Person(name='Vin', role='Manager, Research')\n",
    "will = objects.Person(name='Will', role='Researcher')\n",
    "blake = objects.Person(name='Blake', role='Researcher')\n",
    "sophia = objects.Person(name='Sophia', role='Researcher')\n",
    "natalie = objects.Person(name='Natalie', role='Researcher')\n",
    "chintan = objects.Person(name='Chintan', role='Researcher')\n",
    "alex = objects.Person(name='Alex', role='Researcher')"
   ]
  },
  {
   "cell_type": "markdown",
   "metadata": {},
   "source": [
    "#### Add People to a Team"
   ]
  },
  {
   "cell_type": "code",
   "execution_count": 3,
   "metadata": {},
   "outputs": [],
   "source": [
    "research = objects.Team(name='Research', description='Dots Research Team')\n",
    "research.members.append(vin)\n",
    "research.members.append(will)\n",
    "research.members.append(blake)\n",
    "research.members.append(sophia)\n",
    "research.members.append(natalie)\n",
    "research.members.append(chintan)\n",
    "research.members.append(alex)\n",
    "research.members"
   ]
  },
  {
   "cell_type": "markdown",
   "metadata": {},
   "source": [
    "#### Define Attribute Taxonomies"
   ]
  },
  {
   "cell_type": "code",
   "execution_count": 4,
   "metadata": {},
   "outputs": [],
   "source": [
    "composure = objects.Attribute(name='Composure', description='Keeping your cool')\n",
    "synthesis = objects.Attribute(name='Synthesis')\n",
    "synth_situ = objects.Attribute(name='Synthesizing the Situation')\n",
    "synth_time = objects.Attribute(name='Synthesizing through Time')\n",
    "synthesis.members.append(synth_situ)\n",
    "synthesis.members.append(synth_time)"
   ]
  },
  {
   "cell_type": "code",
   "execution_count": 5,
   "metadata": {},
   "outputs": [
    {
     "data": {
      "text/plain": [
       "2 members of type Attribute"
      ]
     },
     "execution_count": 5,
     "metadata": {},
     "output_type": "execute_result"
    }
   ],
   "source": [
    "synthesis.members"
   ]
  },
  {
   "cell_type": "code",
   "execution_count": 6,
   "metadata": {},
   "outputs": [
    {
     "name": "stdout",
     "output_type": "stream",
     "text": [
      "Synthesizing the Situation\n",
      "Synthesizing through Time\n"
     ]
    }
   ],
   "source": [
    "for item in synthesis.members.data:\n",
    "    print(item.name)"
   ]
  },
  {
   "cell_type": "markdown",
   "metadata": {},
   "source": [
    "#### Define a Meeting"
   ]
  },
  {
   "cell_type": "code",
   "execution_count": 7,
   "metadata": {},
   "outputs": [],
   "source": [
    "weekly_dave_sync = objects.Meeting(name='Weekly Dave Sync', description='Present progress to Dave')\n",
    "question = objects.Question(\n",
    "    name='Status Check', \n",
    "    description='Is the meeting going as expected?', \n",
    "    question_type=objects.QuestionType.BINARY\n",
    ")"
   ]
  },
  {
   "cell_type": "markdown",
   "metadata": {},
   "source": [
    "#### Add Participants"
   ]
  },
  {
   "cell_type": "code",
   "execution_count": 15,
   "metadata": {},
   "outputs": [],
   "source": [
    "for person in research.members.data:\n",
    "    weekly_dave_sync.participants.append(person)"
   ]
  },
  {
   "cell_type": "markdown",
   "metadata": {},
   "source": [
    "#### Record Responses to a Question"
   ]
  },
  {
   "cell_type": "code",
   "execution_count": 8,
   "metadata": {},
   "outputs": [],
   "source": [
    "response1 = objects.Response(source=vin, target=question, value=True, context=[research, weekly_dave_sync])\n",
    "response2 = objects.Response(source=will, target=question, value=True, context=[research, weekly_dave_sync])\n",
    "response3 = objects.Response(source=alex, target=question, value=False, context=[research, weekly_dave_sync])"
   ]
  },
  {
   "cell_type": "code",
   "execution_count": 9,
   "metadata": {},
   "outputs": [],
   "source": [
    "question.add_responses(response1)\n",
    "question.add_responses(response2)\n",
    "question.add_responses(response3)"
   ]
  },
  {
   "cell_type": "code",
   "execution_count": 10,
   "metadata": {},
   "outputs": [],
   "source": [
    "weekly_dave_sync.questions.append(question)"
   ]
  },
  {
   "cell_type": "markdown",
   "metadata": {},
   "source": [
    "#### Give Feedback in Meeting"
   ]
  },
  {
   "cell_type": "code",
   "execution_count": 11,
   "metadata": {},
   "outputs": [],
   "source": [
    "dot1 = objects.Dot(source=vin, target=blake, measure=composure, value=5, context=[research, weekly_dave_sync])\n",
    "dot2 = objects.Dot(source=will, target=vin, measure=synthesis, value=7, context=[research, weekly_dave_sync])\n",
    "dot3 = objects.Dot(source=blake, target=chintan, measure=synth_situ, value=7, context=[research, weekly_dave_sync])"
   ]
  },
  {
   "cell_type": "code",
   "execution_count": 12,
   "metadata": {},
   "outputs": [],
   "source": [
    "weekly_dave_sync.dots.append(dot1)\n",
    "weekly_dave_sync.dots.append(dot2)\n",
    "weekly_dave_sync.dots.append(dot3)"
   ]
  },
  {
   "cell_type": "markdown",
   "metadata": {},
   "source": [
    "#### Synthesize What Happened"
   ]
  },
  {
   "cell_type": "code",
   "execution_count": 16,
   "metadata": {},
   "outputs": [
    {
     "data": {
      "text/plain": [
       "7 members of type Person"
      ]
     },
     "execution_count": 16,
     "metadata": {},
     "output_type": "execute_result"
    }
   ],
   "source": [
    "weekly_dave_sync.participants"
   ]
  },
  {
   "cell_type": "code",
   "execution_count": 18,
   "metadata": {},
   "outputs": [
    {
     "data": {
      "text/plain": [
       "3 members of type Dot"
      ]
     },
     "execution_count": 18,
     "metadata": {},
     "output_type": "execute_result"
    }
   ],
   "source": [
    "weekly_dave_sync.dots"
   ]
  },
  {
   "cell_type": "code",
   "execution_count": 17,
   "metadata": {},
   "outputs": [
    {
     "data": {
      "text/plain": [
       "1 members of type Question"
      ]
     },
     "execution_count": 17,
     "metadata": {},
     "output_type": "execute_result"
    }
   ],
   "source": [
    "weekly_dave_sync.questions"
   ]
  },
  {
   "cell_type": "code",
   "execution_count": 22,
   "metadata": {},
   "outputs": [
    {
     "name": "stdout",
     "output_type": "stream",
     "text": [
      "3 members of type Response\n"
     ]
    }
   ],
   "source": [
    "for question in weekly_dave_sync.questions.data:\n",
    "    print(question.responses)"
   ]
  },
  {
   "cell_type": "code",
   "execution_count": null,
   "metadata": {},
   "outputs": [],
   "source": []
  }
 ],
 "metadata": {
  "kernelspec": {
   "display_name": "Python 3",
   "language": "python",
   "name": "python3"
  },
  "language_info": {
   "codemirror_mode": {
    "name": "ipython",
    "version": 3
   },
   "file_extension": ".py",
   "mimetype": "text/x-python",
   "name": "python",
   "nbconvert_exporter": "python",
   "pygments_lexer": "ipython3",
   "version": "3.7.2"
  }
 },
 "nbformat": 4,
 "nbformat_minor": 2
}
