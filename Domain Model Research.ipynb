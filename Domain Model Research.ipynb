{
 "cells": [
  {
   "cell_type": "code",
   "execution_count": 1,
   "metadata": {},
   "outputs": [],
   "source": [
    "from src import meta, config\n",
    "from src.meta import add_metaclasses_to_domain"
   ]
  },
  {
   "cell_type": "code",
   "execution_count": 2,
   "metadata": {},
   "outputs": [],
   "source": [
    "add_metaclasses_to_domain(config.configuration)"
   ]
  },
  {
   "cell_type": "markdown",
   "metadata": {},
   "source": [
    "### Entities In Collections"
   ]
  },
  {
   "cell_type": "markdown",
   "metadata": {},
   "source": [
    "##### How can a Researcher model the world?"
   ]
  },
  {
   "cell_type": "code",
   "execution_count": 3,
   "metadata": {},
   "outputs": [],
   "source": [
    "dots_research = meta.Team()\n",
    "improve_product = meta.Goal()\n",
    "conduct_research = meta.Responsibility()\n",
    "documentation_binder = meta.Task()\n",
    "\n",
    "documentation_binder.is_member_of(conduct_research, description='Research PriOS Improvements')\n",
    "conduct_research.is_member_of(improve_product, description='Improve PriOS Product')\n",
    "improve_product.is_member_of(dots_research, description='Research Contributes to Product')"
   ]
  },
  {
   "cell_type": "code",
   "execution_count": 4,
   "metadata": {},
   "outputs": [],
   "source": [
    "oscar = meta.Person()\n",
    "oscar.is_member_of(dots_research, description='Oscar')\n",
    "oscar.is_member_of(documentation_binder, description='Working on documentation')\n",
    "\n",
    "tim = meta.Person()\n",
    "tim.is_member_of(dots_research, description='Tim')"
   ]
  },
  {
   "cell_type": "code",
   "execution_count": 5,
   "metadata": {},
   "outputs": [
    {
     "name": "stdout",
     "output_type": "stream",
     "text": [
      "Team\n",
      "  ('Goal', 'Research Contributes to Product')\n",
      "    ('Responsibility', 'Improve PriOS Product')\n",
      "      ('Task', 'Research PriOS Improvements')\n",
      "        ('Person', 'Working on documentation')\n",
      "  ('Person', 'Oscar')\n",
      "  ('Person', 'Tim')\n"
     ]
    }
   ],
   "source": [
    "meta.describe_entity(dots_research)"
   ]
  },
  {
   "cell_type": "code",
   "execution_count": 6,
   "metadata": {},
   "outputs": [
    {
     "data": {
      "text/plain": [
       "Name: Goal\n",
       "Provenance: Goal -> GrammarCollection -> object"
      ]
     },
     "execution_count": 6,
     "metadata": {},
     "output_type": "execute_result"
    }
   ],
   "source": [
    "improve_product"
   ]
  },
  {
   "cell_type": "markdown",
   "metadata": {},
   "source": [
    "### Measures in Collections"
   ]
  },
  {
   "cell_type": "markdown",
   "metadata": {},
   "source": [
    "##### How can a Researcher generate Ontologies and Taxonomies of the world?"
   ]
  },
  {
   "cell_type": "code",
   "execution_count": 7,
   "metadata": {},
   "outputs": [],
   "source": [
    "attributes = meta.Taxonomy()\n",
    "\n",
    "synthesis = meta.Taxonomy()\n",
    "synthesis_situation = meta.Attribute()\n",
    "synthesis_time = meta.Attribute()\n",
    "composure = meta.Attribute(name='Composure', description='Consistently keeping your cool...')\n",
    "\n",
    "synthesis.is_member_of(attributes, description='Synthesis')\n",
    "synthesis_situation.is_member_of(synthesis, description='Synthesizing the Situation')\n",
    "synthesis_time.is_member_of(synthesis, description='Synthesizing through Time')\n",
    "composure.is_member_of(attributes, description='Composure')"
   ]
  },
  {
   "cell_type": "code",
   "execution_count": 8,
   "metadata": {},
   "outputs": [
    {
     "data": {
      "text/plain": [
       "Name: Composure\n",
       "Description: Consistently keeping your cool...\n",
       "Provenance: Attribute -> Quality -> Measure -> GrammarObject -> object\n",
       "Implemented: False"
      ]
     },
     "execution_count": 8,
     "metadata": {},
     "output_type": "execute_result"
    }
   ],
   "source": [
    "composure"
   ]
  },
  {
   "cell_type": "code",
   "execution_count": 9,
   "metadata": {},
   "outputs": [
    {
     "name": "stdout",
     "output_type": "stream",
     "text": [
      "Taxonomy\n",
      "  ('Taxonomy', 'Synthesis')\n",
      "    ('Attribute', 'Synthesizing the Situation')\n",
      "    ('Attribute', 'Synthesizing through Time')\n",
      "  ('Attribute', 'Composure')\n"
     ]
    }
   ],
   "source": [
    "meta.describe_entity(attributes)"
   ]
  },
  {
   "cell_type": "markdown",
   "metadata": {},
   "source": [
    "### Assertions In Collections"
   ]
  },
  {
   "cell_type": "code",
   "execution_count": 10,
   "metadata": {},
   "outputs": [],
   "source": [
    "domain_model_discussion = meta.Meeting()\n",
    "\n",
    "oscar.asserts(\n",
    "    tim, context=domain_model_discussion, measure=composure, \n",
    "    value=8.0, confidence=3.0, description='Nice job controlling yourself'\n",
    ")\n",
    "\n",
    "tim.asserts(\n",
    "    oscar, context=domain_model_discussion, measure=composure, \n",
    "    value=3.0, confidence=3.0, description='Get a hold of yourself!'\n",
    ")"
   ]
  },
  {
   "cell_type": "code",
   "execution_count": 11,
   "metadata": {},
   "outputs": [
    {
     "data": {
      "text/plain": [
       "Counter({('Meeting', 'Attribute', 'Get a hold of yourself!'): 1})"
      ]
     },
     "execution_count": 11,
     "metadata": {},
     "output_type": "execute_result"
    }
   ],
   "source": [
    "oscar.describe"
   ]
  },
  {
   "cell_type": "code",
   "execution_count": 12,
   "metadata": {},
   "outputs": [
    {
     "data": {
      "text/plain": [
       "Counter({('Meeting', 'Attribute', 'Nice job controlling yourself'): 1})"
      ]
     },
     "execution_count": 12,
     "metadata": {},
     "output_type": "execute_result"
    }
   ],
   "source": [
    "tim.describe"
   ]
  },
  {
   "cell_type": "markdown",
   "metadata": {},
   "source": [
    "### Logic as a 1st Class Domain Object"
   ]
  },
  {
   "cell_type": "markdown",
   "metadata": {},
   "source": [
    "##### Note that this logic does not exist yet"
   ]
  },
  {
   "cell_type": "code",
   "execution_count": 13,
   "metadata": {},
   "outputs": [
    {
     "name": "stdout",
     "output_type": "stream",
     "text": [
      "'Person' object has no attribute 'get_my_observations'\n"
     ]
    }
   ],
   "source": [
    "try: oscar.get_my_observations()\n",
    "except Exception as e: print(e)"
   ]
  },
  {
   "cell_type": "markdown",
   "metadata": {},
   "source": [
    "##### Lets attach new logic to a Person"
   ]
  },
  {
   "cell_type": "code",
   "execution_count": 14,
   "metadata": {},
   "outputs": [],
   "source": [
    "@meta.register_method_to_context(meta.Person)\n",
    "def get_my_observations(self):\n",
    "    \"\"\"This function provides a synthesis of assertions on an Entity\"\"\"\n",
    "    key_observation_data = ['value', 'confidence', 'timestamp', 'description']\n",
    "    return [\n",
    "        {item: getattr(assertion, item) \n",
    "         for item in dir(assertion) \n",
    "         if not item.startswith('_') \n",
    "         and item in key_observation_data} \n",
    "        for assertion in self._members\n",
    "    ]"
   ]
  },
  {
   "cell_type": "markdown",
   "metadata": {},
   "source": [
    "##### Note that the logic itself is self-documenting..."
   ]
  },
  {
   "cell_type": "code",
   "execution_count": 15,
   "metadata": {},
   "outputs": [
    {
     "data": {
      "text/plain": [
       "Name: get_my_observations\n",
       "Description: This function provides a synthesis of assertions on an Entity\n",
       "Provenance: GrammarObject -> object\n",
       "Implemented: True"
      ]
     },
     "execution_count": 15,
     "metadata": {},
     "output_type": "execute_result"
    }
   ],
   "source": [
    "get_my_observations"
   ]
  },
  {
   "cell_type": "markdown",
   "metadata": {},
   "source": [
    "##### ...And obviously executable"
   ]
  },
  {
   "cell_type": "code",
   "execution_count": 16,
   "metadata": {},
   "outputs": [
    {
     "data": {
      "text/plain": [
       "[{'confidence': 3.0,\n",
       "  'description': 'Get a hold of yourself!',\n",
       "  'timestamp': 1553804388.407549,\n",
       "  'value': 3.0}]"
      ]
     },
     "execution_count": 16,
     "metadata": {},
     "output_type": "execute_result"
    }
   ],
   "source": [
    "oscar.get_my_observations()"
   ]
  },
  {
   "cell_type": "markdown",
   "metadata": {},
   "source": [
    "##### The logic is also parameterizable"
   ]
  },
  {
   "cell_type": "code",
   "execution_count": 17,
   "metadata": {},
   "outputs": [],
   "source": [
    "@meta.register_method_to_context(meta.Person)\n",
    "def what_is_my_name(self, default_name='No Name Given'):\n",
    "    if getattr(self, 'name', None):\n",
    "        return self.name\n",
    "    else:\n",
    "        return default_name"
   ]
  },
  {
   "cell_type": "code",
   "execution_count": 18,
   "metadata": {},
   "outputs": [
    {
     "data": {
      "text/plain": [
       "'No Name Given'"
      ]
     },
     "execution_count": 18,
     "metadata": {},
     "output_type": "execute_result"
    }
   ],
   "source": [
    "oscar.what_is_my_name()"
   ]
  },
  {
   "cell_type": "code",
   "execution_count": 19,
   "metadata": {},
   "outputs": [
    {
     "data": {
      "text/plain": [
       "'John Doe'"
      ]
     },
     "execution_count": 19,
     "metadata": {},
     "output_type": "execute_result"
    }
   ],
   "source": [
    "oscar.what_is_my_name(default_name='John Doe')"
   ]
  },
  {
   "cell_type": "code",
   "execution_count": 20,
   "metadata": {},
   "outputs": [
    {
     "data": {
      "text/plain": [
       "'Oscar Rabiolo'"
      ]
     },
     "execution_count": 20,
     "metadata": {},
     "output_type": "execute_result"
    }
   ],
   "source": [
    "oscar.name = 'Oscar Rabiolo'\n",
    "oscar.what_is_my_name()"
   ]
  },
  {
   "cell_type": "code",
   "execution_count": null,
   "metadata": {},
   "outputs": [],
   "source": []
  }
 ],
 "metadata": {
  "kernelspec": {
   "display_name": "Python 3",
   "language": "python",
   "name": "python3"
  },
  "language_info": {
   "codemirror_mode": {
    "name": "ipython",
    "version": 3
   },
   "file_extension": ".py",
   "mimetype": "text/x-python",
   "name": "python",
   "nbconvert_exporter": "python",
   "pygments_lexer": "ipython3",
   "version": "3.7.2"
  }
 },
 "nbformat": 4,
 "nbformat_minor": 2
}
