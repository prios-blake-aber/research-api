{
 "cells": [
  {
   "cell_type": "code",
   "execution_count": 1,
   "metadata": {},
   "outputs": [],
   "source": [
    "from src import meta"
   ]
  },
  {
   "cell_type": "markdown",
   "metadata": {},
   "source": [
    "### Entities"
   ]
  },
  {
   "cell_type": "code",
   "execution_count": 2,
   "metadata": {},
   "outputs": [],
   "source": [
    "# Base\n",
    "Entity = meta.create_new_object(name='Entity', base_class=meta.GrammarObject)\n",
    "\n",
    "# Level 1\n",
    "Person = meta.create_new_object(name='Person', base_class=Entity)\n",
    "System = meta.create_new_object(name='System', base_class=Entity)"
   ]
  },
  {
   "cell_type": "markdown",
   "metadata": {},
   "source": [
    "### Entity Collections"
   ]
  },
  {
   "cell_type": "code",
   "execution_count": 3,
   "metadata": {},
   "outputs": [],
   "source": [
    "# Base\n",
    "EntityCollection = meta.create_new_object(name='EntityCollection', base_class=meta.GrammarCollection)\n",
    "\n",
    "# Level 1\n",
    "Goal = meta.create_new_object(name='Goal', base_class=EntityCollection)\n",
    "Meeting = meta.create_new_object(name='Meeting', base_class=EntityCollection)\n",
    "Team = meta.create_new_object(name='Team', base_class=EntityCollection)\n",
    "Location = meta.create_new_object(name='Location', base_class=EntityCollection)\n",
    "Project = meta.create_new_object(name='Project', base_class=EntityCollection)\n",
    "TimeWindow = meta.create_new_object(name='TimeWindow', base_class=EntityCollection)\n",
    "\n",
    "# Other Levels\n",
    "Responsibility = meta.create_new_object(name='Responsibility', base_class=Goal)\n",
    "Task = meta.create_new_object(name='Task', base_class=Responsibility)"
   ]
  },
  {
   "cell_type": "markdown",
   "metadata": {},
   "source": [
    "### Result: Entities In Collections"
   ]
  },
  {
   "cell_type": "code",
   "execution_count": 4,
   "metadata": {},
   "outputs": [],
   "source": [
    "dots_research = Team()\n",
    "improve_product = Goal()\n",
    "conduct_research = Responsibility()\n",
    "documentation_binder = Task()\n",
    "\n",
    "documentation_binder.is_member_of(conduct_research, description='Research PriOS Improvements')\n",
    "conduct_research.is_member_of(improve_product, description='Improve PriOS Product')\n",
    "improve_product.is_member_of(dots_research, description='Research Contributes to Product')"
   ]
  },
  {
   "cell_type": "code",
   "execution_count": 5,
   "metadata": {},
   "outputs": [
    {
     "name": "stdout",
     "output_type": "stream",
     "text": [
      "Team\n",
      "  ('Goal', 'Research Contributes to Product')\n",
      "    ('Responsibility', 'Improve PriOS Product')\n",
      "      ('Task', 'Research PriOS Improvements')\n"
     ]
    }
   ],
   "source": [
    "meta.describe_entity(dots_research)"
   ]
  },
  {
   "cell_type": "code",
   "execution_count": 6,
   "metadata": {},
   "outputs": [],
   "source": [
    "oscar = Person()\n",
    "oscar.is_member_of(dots_research, description='Oscar')\n",
    "oscar.is_member_of(documentation_binder, description='Working on documentation')\n",
    "\n",
    "tim = Person()\n",
    "tim.is_member_of(dots_research, description='Tim')"
   ]
  },
  {
   "cell_type": "code",
   "execution_count": 7,
   "metadata": {},
   "outputs": [
    {
     "name": "stdout",
     "output_type": "stream",
     "text": [
      "Team\n",
      "  ('Goal', 'Research Contributes to Product')\n",
      "    ('Responsibility', 'Improve PriOS Product')\n",
      "      ('Task', 'Research PriOS Improvements')\n",
      "        ('Person', 'Working on documentation')\n",
      "  ('Person', 'Oscar')\n",
      "  ('Person', 'Tim')\n"
     ]
    }
   ],
   "source": [
    "meta.describe_entity(dots_research)"
   ]
  },
  {
   "cell_type": "markdown",
   "metadata": {},
   "source": [
    "### Measures"
   ]
  },
  {
   "cell_type": "code",
   "execution_count": 14,
   "metadata": {},
   "outputs": [],
   "source": [
    "Measure = meta.create_new_object(name='Measure', base_class=meta.GrammarObject)"
   ]
  },
  {
   "cell_type": "code",
   "execution_count": 18,
   "metadata": {},
   "outputs": [],
   "source": [
    "Quality = meta.create_new_object(name='Quality', base_class=Measure)\n",
    "Believability = meta.create_new_object(name='Believability', base_class=Measure)  # What do we do with this?\n",
    "Outcome = meta.create_new_object(name='Outcome', base_class=Measure)"
   ]
  },
  {
   "cell_type": "code",
   "execution_count": 16,
   "metadata": {},
   "outputs": [],
   "source": [
    "# Quality\n",
    "Attribute = meta.create_new_object(name='Attribute', base_class=Quality)\n",
    "Value = meta.create_new_object(name='Value', base_class=Quality)\n",
    "Interest = meta.create_new_object(name='Interest', base_class=Quality)\n",
    "Skill = meta.create_new_object(name='Skill', base_class=Quality)"
   ]
  },
  {
   "cell_type": "code",
   "execution_count": 17,
   "metadata": {},
   "outputs": [],
   "source": [
    "# Outcome\n",
    "IssueLog = meta.create_new_object(name='IssueLog', base_class=Outcome)"
   ]
  },
  {
   "cell_type": "markdown",
   "metadata": {},
   "source": [
    "### Assertions"
   ]
  },
  {
   "cell_type": "code",
   "execution_count": 8,
   "metadata": {},
   "outputs": [],
   "source": [
    "Assertion = meta.create_new_object(name='Assertion', base_class=meta.GrammarAssertion)"
   ]
  },
  {
   "cell_type": "code",
   "execution_count": 9,
   "metadata": {},
   "outputs": [],
   "source": [
    "Assessment = meta.create_new_object(name='Assessment', base_class=Assertion)\n",
    "Estimation = meta.create_new_object(name='Estimation', base_class=Assertion)\n",
    "Intervention = meta.create_new_object(name='Intervention', base_class=Assertion)\n",
    "Reward = meta.create_new_object(name='Reward', base_class=Assertion)"
   ]
  },
  {
   "cell_type": "code",
   "execution_count": 10,
   "metadata": {},
   "outputs": [],
   "source": [
    "# Assessment\n",
    "Dot = meta.create_new_object(name='Dot', base_class=Assessment)\n",
    "Ranking = meta.create_new_object(name='Ranking', base_class=Assessment)\n",
    "Test = meta.create_new_object(name='Test', base_class=Assessment)\n",
    "Review = meta.create_new_object(name='Review', base_class=Assessment)"
   ]
  },
  {
   "cell_type": "code",
   "execution_count": 11,
   "metadata": {},
   "outputs": [],
   "source": [
    "# Estimation\n",
    "Resume = meta.create_new_object(name='Resume', base_class=Estimation)\n",
    "Stream = meta.create_new_object(name='Stream', base_class=Estimation)"
   ]
  },
  {
   "cell_type": "code",
   "execution_count": 12,
   "metadata": {},
   "outputs": [],
   "source": [
    "# Intervention\n",
    "PopUp = meta.create_new_object(name='PopUp', base_class=Intervention)\n",
    "Training = meta.create_new_object(name='Training', base_class=Intervention)"
   ]
  },
  {
   "cell_type": "code",
   "execution_count": 13,
   "metadata": {},
   "outputs": [],
   "source": [
    "# Reward\n",
    "Extrinsic = meta.create_new_object(name='Extrinsic', base_class=Reward)\n",
    "Intrinsic = meta.create_new_object(name='Intrinsic', base_class=Reward)"
   ]
  },
  {
   "cell_type": "markdown",
   "metadata": {},
   "source": [
    "### Result: Assertions In Collections"
   ]
  },
  {
   "cell_type": "code",
   "execution_count": null,
   "metadata": {},
   "outputs": [],
   "source": [
    "domain_model_discussion = Meeting()\n"
   ]
  },
  {
   "cell_type": "code",
   "execution_count": null,
   "metadata": {},
   "outputs": [],
   "source": []
  },
  {
   "cell_type": "code",
   "execution_count": null,
   "metadata": {},
   "outputs": [],
   "source": []
  },
  {
   "cell_type": "code",
   "execution_count": null,
   "metadata": {},
   "outputs": [],
   "source": []
  },
  {
   "cell_type": "code",
   "execution_count": null,
   "metadata": {},
   "outputs": [],
   "source": []
  },
  {
   "cell_type": "code",
   "execution_count": null,
   "metadata": {},
   "outputs": [],
   "source": []
  }
 ],
 "metadata": {
  "kernelspec": {
   "display_name": "Python 3",
   "language": "python",
   "name": "python3"
  },
  "language_info": {
   "codemirror_mode": {
    "name": "ipython",
    "version": 3
   },
   "file_extension": ".py",
   "mimetype": "text/x-python",
   "name": "python",
   "nbconvert_exporter": "python",
   "pygments_lexer": "ipython3",
   "version": "3.7.2"
  }
 },
 "nbformat": 4,
 "nbformat_minor": 2
}
