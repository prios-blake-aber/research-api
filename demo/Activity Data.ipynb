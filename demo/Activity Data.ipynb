{
 "cells": [
  {
   "cell_type": "code",
   "execution_count": 5,
   "metadata": {},
   "outputs": [],
   "source": [
    "from src import objects"
   ]
  },
  {
   "cell_type": "code",
   "execution_count": 14,
   "metadata": {},
   "outputs": [
    {
     "data": {
      "text/plain": [
       "7 members of type Person"
      ]
     },
     "execution_count": 14,
     "metadata": {},
     "output_type": "execute_result"
    }
   ],
   "source": [
    "# Create People\n",
    "vin = objects.Person(name='Vin', role='Manager, Research')\n",
    "will = objects.Person(name='Will', role='Researcher')\n",
    "blake = objects.Person(name='Blake', role='Researcher')\n",
    "sophia = objects.Person(name='Sophia', role='Researcher')\n",
    "natalie = objects.Person(name='Natalie', role='Researcher')\n",
    "chintan = objects.Person(name='Chintan', role='Researcher')\n",
    "alex = objects.Person(name='Alex', role='Researcher')\n",
    "\n",
    "research = objects.Team(name='Research', description='Dots Research Team')\n",
    "research.members.append(vin)\n",
    "research.members.append(will)\n",
    "research.members.append(blake)\n",
    "research.members.append(sophia)\n",
    "research.members.append(natalie)\n",
    "research.members.append(chintan)\n",
    "research.members.append(alex)\n",
    "research.members"
   ]
  },
  {
   "cell_type": "code",
   "execution_count": 29,
   "metadata": {},
   "outputs": [],
   "source": [
    "import numpy as np\n",
    "import pandas as pd"
   ]
  },
  {
   "cell_type": "code",
   "execution_count": 18,
   "metadata": {},
   "outputs": [],
   "source": [
    "id_list = [p.name for p in research.members.data]\n",
    "attr_list = ['Creativity', 'Determination']"
   ]
  },
  {
   "cell_type": "code",
   "execution_count": 28,
   "metadata": {},
   "outputs": [],
   "source": [
    "# Simulate Data on dots Received by Each Person with Poisson Distribution whose scale varies by Time.\n",
    "n_periods = 100\n",
    "dt_rng = pd.date_range(start='1/1/2019', periods=n_periods, freq='D')\n",
    "\n",
    "simulation_params = dict()\n",
    "\n",
    "for idj in id_list:\n",
    "    simulation_params_for_person = dict()\n",
    "    for attrj in attr_list:\n",
    "        simulation_params_for_person[attrj] = pd.Series([2]*len(dt_rng), index = dt_rng)\n",
    "    simulation_params[idj] = simulation_params_for_person\n",
    "    \n",
    "# (1) Increase Frequency of Dots Received by Vin on Creativity over last 30 days.\n",
    "# (2) Increase Frequency of Dots Received by Will on Determination over middle 30 days.\n",
    "\n",
    "simulation_params['Vin']['Creativity'][-30:-1] = 10\n",
    "simulation_params['Will']['Determination'][-60:-31] = 10"
   ]
  },
  {
   "cell_type": "code",
   "execution_count": 39,
   "metadata": {},
   "outputs": [
    {
     "data": {
      "text/plain": [
       "array([2])"
      ]
     },
     "execution_count": 39,
     "metadata": {},
     "output_type": "execute_result"
    }
   ],
   "source": [
    "# Simulate number of Dots Received each day. \n",
    "dots_received = dict()\n",
    "\n",
    "\n",
    "np.random.seed(1)\n",
    "np.random.poisson(lam=2, size=1)"
   ]
  }
 ],
 "metadata": {
  "kernelspec": {
   "display_name": "Python 3",
   "language": "python",
   "name": "python3"
  },
  "language_info": {
   "codemirror_mode": {
    "name": "ipython",
    "version": 3
   },
   "file_extension": ".py",
   "mimetype": "text/x-python",
   "name": "python",
   "nbconvert_exporter": "python",
   "pygments_lexer": "ipython3",
   "version": "3.6.5"
  }
 },
 "nbformat": 4,
 "nbformat_minor": 2
}
