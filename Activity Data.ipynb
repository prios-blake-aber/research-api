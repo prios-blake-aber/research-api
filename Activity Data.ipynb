{
 "cells": [
  {
   "cell_type": "code",
   "execution_count": 5,
   "metadata": {},
   "outputs": [],
   "source": [
    "from src import objects"
   ]
  },
  {
   "cell_type": "code",
   "execution_count": 14,
   "metadata": {},
   "outputs": [
    {
     "data": {
      "text/plain": [
       "7 members of type Person"
      ]
     },
     "execution_count": 14,
     "metadata": {},
     "output_type": "execute_result"
    }
   ],
   "source": [
    "# Create People\n",
    "vin = objects.Person(name='Vin', role='Manager, Research')\n",
    "will = objects.Person(name='Will', role='Researcher')\n",
    "blake = objects.Person(name='Blake', role='Researcher')\n",
    "sophia = objects.Person(name='Sophia', role='Researcher')\n",
    "natalie = objects.Person(name='Natalie', role='Researcher')\n",
    "chintan = objects.Person(name='Chintan', role='Researcher')\n",
    "alex = objects.Person(name='Alex', role='Researcher')\n",
    "\n",
    "research = objects.Team(name='Research', description='Dots Research Team')\n",
    "research.members.append(vin)\n",
    "research.members.append(will)\n",
    "research.members.append(blake)\n",
    "research.members.append(sophia)\n",
    "research.members.append(natalie)\n",
    "research.members.append(chintan)\n",
    "research.members.append(alex)\n",
    "research.members"
   ]
  },
  {
   "cell_type": "code",
   "execution_count": 29,
   "metadata": {},
   "outputs": [],
   "source": [
    "import numpy as np\n",
    "import pandas as pd"
   ]
  },
  {
   "cell_type": "code",
   "execution_count": 18,
   "metadata": {},
   "outputs": [],
   "source": [
    "id_list = [p.name for p in research.members]\n",
    "attr_list = ['Creativity', 'Determination']"
   ]
  },
  {
   "cell_type": "code",
   "execution_count": 28,
   "metadata": {},
   "outputs": [],
   "source": [
    "# Simulate Data on dots Received by Each Person with Poisson Distribution whose scale varies by Time.\n",
    "# * Every gets X dots each day (X is Poisson distribution with rate = 2)\n",
    "# * Rate = 10 for Vin/Creativity \n",
    "n_periods = 100\n",
    "dt_rng = pd.date_range(start='1/1/2019', periods=n_periods, freq='D')\n",
    "\n",
    "simulation_params = dict()\n",
    "\n",
    "for idj in id_list:\n",
    "    simulation_params_for_person = dict()\n",
    "    for attrj in attr_list:\n",
    "        simulation_params_for_person[attrj] = pd.Series([2]*len(dt_rng), index = dt_rng)\n",
    "    simulation_params[idj] = simulation_params_for_person\n",
    "    \n",
    "# (1) Increase Frequency of Dots Received by Vin on Creativity over last 30 days.\n",
    "# (2) Increase Frequency of Dots Received by Will on Determination over middle 30 days.\n",
    "\n",
    "simulation_params['Vin']['Creativity'][-30:-1] = 10\n",
    "simulation_params['Will']['Determination'][-60:-31] = 10"
   ]
  },
  {
   "cell_type": "code",
   "execution_count": 64,
   "metadata": {},
   "outputs": [],
   "source": [
    "# Simulate number of Dots Received each day. \n",
    "np.random.seed(1)\n",
    "\n",
    "dots_received = list()\n",
    "\n",
    "for idj in id_list:\n",
    "    for attrj in attr_list:\n",
    "        simulated_counts_array = [np.random.poisson(lam=x, size=1) for x in simulation_params[idj][attrj]]\n",
    "        simulated_counts = pd.Series(simulated_counts_array, index = simulation_params[idj][attrj].index)\n",
    "        for date, cnt in simulated_counts.to_dict().items():\n",
    "            for j in range(int(cnt)):\n",
    "                random_author = np.random.choice(id_list)\n",
    "                one_dot = (random_author, idj, attrj, date, np.random.choice([rating for rating in range(1, 11)]))\n",
    "                dots_received += [one_dot]"
   ]
  },
  {
   "cell_type": "code",
   "execution_count": 65,
   "metadata": {},
   "outputs": [],
   "source": [
    "dots_received_df = pd.DataFrame.from_records(dots_received, columns=['Author','Subject', 'Attribute', 'Date', 'Value'])"
   ]
  },
  {
   "cell_type": "code",
   "execution_count": 67,
   "metadata": {},
   "outputs": [
    {
     "data": {
      "text/html": [
       "<div>\n",
       "<style scoped>\n",
       "    .dataframe tbody tr th:only-of-type {\n",
       "        vertical-align: middle;\n",
       "    }\n",
       "\n",
       "    .dataframe tbody tr th {\n",
       "        vertical-align: top;\n",
       "    }\n",
       "\n",
       "    .dataframe thead th {\n",
       "        text-align: right;\n",
       "    }\n",
       "</style>\n",
       "<table border=\"1\" class=\"dataframe\">\n",
       "  <thead>\n",
       "    <tr style=\"text-align: right;\">\n",
       "      <th></th>\n",
       "      <th>Author</th>\n",
       "      <th>Subject</th>\n",
       "      <th>Attribute</th>\n",
       "      <th>Date</th>\n",
       "      <th>Value</th>\n",
       "    </tr>\n",
       "  </thead>\n",
       "  <tbody>\n",
       "    <tr>\n",
       "      <th>0</th>\n",
       "      <td>Blake</td>\n",
       "      <td>Vin</td>\n",
       "      <td>Creativity</td>\n",
       "      <td>2019-01-01</td>\n",
       "      <td>9</td>\n",
       "    </tr>\n",
       "    <tr>\n",
       "      <th>1</th>\n",
       "      <td>Chintan</td>\n",
       "      <td>Vin</td>\n",
       "      <td>Creativity</td>\n",
       "      <td>2019-01-01</td>\n",
       "      <td>1</td>\n",
       "    </tr>\n",
       "    <tr>\n",
       "      <th>2</th>\n",
       "      <td>Natalie</td>\n",
       "      <td>Vin</td>\n",
       "      <td>Creativity</td>\n",
       "      <td>2019-01-02</td>\n",
       "      <td>6</td>\n",
       "    </tr>\n",
       "    <tr>\n",
       "      <th>3</th>\n",
       "      <td>Will</td>\n",
       "      <td>Vin</td>\n",
       "      <td>Creativity</td>\n",
       "      <td>2019-01-04</td>\n",
       "      <td>9</td>\n",
       "    </tr>\n",
       "    <tr>\n",
       "      <th>4</th>\n",
       "      <td>Blake</td>\n",
       "      <td>Vin</td>\n",
       "      <td>Creativity</td>\n",
       "      <td>2019-01-05</td>\n",
       "      <td>7</td>\n",
       "    </tr>\n",
       "  </tbody>\n",
       "</table>\n",
       "</div>"
      ],
      "text/plain": [
       "    Author Subject   Attribute       Date  Value\n",
       "0    Blake     Vin  Creativity 2019-01-01      9\n",
       "1  Chintan     Vin  Creativity 2019-01-01      1\n",
       "2  Natalie     Vin  Creativity 2019-01-02      6\n",
       "3     Will     Vin  Creativity 2019-01-04      9\n",
       "4    Blake     Vin  Creativity 2019-01-05      7"
      ]
     },
     "execution_count": 67,
     "metadata": {},
     "output_type": "execute_result"
    }
   ],
   "source": [
    "dots_received_df.head()"
   ]
  }
 ],
 "metadata": {
  "kernelspec": {
   "display_name": "Python 3",
   "language": "python",
   "name": "python3"
  },
  "language_info": {
   "codemirror_mode": {
    "name": "ipython",
    "version": 3
   },
   "file_extension": ".py",
   "mimetype": "text/x-python",
   "name": "python",
   "nbconvert_exporter": "python",
   "pygments_lexer": "ipython3",
   "version": "3.6.5"
  }
 },
 "nbformat": 4,
 "nbformat_minor": 2
}
