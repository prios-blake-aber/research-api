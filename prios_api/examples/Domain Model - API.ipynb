{
 "cells": [
  {
   "cell_type": "markdown",
   "metadata": {},
   "source": [
    "### Imports"
   ]
  },
  {
   "cell_type": "code",
   "execution_count": 1,
   "metadata": {},
   "outputs": [],
   "source": [
    "from itertools import groupby\n",
    "from src import objects"
   ]
  },
  {
   "cell_type": "markdown",
   "metadata": {},
   "source": [
    "### Define Sample Objects"
   ]
  },
  {
   "cell_type": "markdown",
   "metadata": {},
   "source": [
    "#### Instantiate People"
   ]
  },
  {
   "cell_type": "code",
   "execution_count": 2,
   "metadata": {},
   "outputs": [],
   "source": [
    "vin = objects.Person(name='Vin', role='Manager, Research')\n",
    "will = objects.Person(name='Will', role='Researcher')\n",
    "blake = objects.Person(name='Blake', role='Researcher')\n",
    "sophia = objects.Person(name='Sophia', role='Researcher')\n",
    "natalie = objects.Person(name='Natalie', role='Researcher')\n",
    "chintan = objects.Person(name='Chintan', role='Researcher')\n",
    "alex = objects.Person(name='Alex', role='Researcher')"
   ]
  },
  {
   "cell_type": "markdown",
   "metadata": {},
   "source": [
    "#### Add People to a Team"
   ]
  },
  {
   "cell_type": "code",
   "execution_count": 3,
   "metadata": {},
   "outputs": [
    {
     "data": {
      "text/plain": [
       "7 members of type Person"
      ]
     },
     "execution_count": 3,
     "metadata": {},
     "output_type": "execute_result"
    }
   ],
   "source": [
    "research = objects.Team(name='Research', description='Dots Research Team')\n",
    "research.members.append(vin)\n",
    "research.members.append(will)\n",
    "research.members.append(blake)\n",
    "research.members.append(sophia)\n",
    "research.members.append(natalie)\n",
    "research.members.append(chintan)\n",
    "research.members.append(alex)\n",
    "research.members"
   ]
  },
  {
   "cell_type": "markdown",
   "metadata": {},
   "source": [
    "#### Define Attribute Taxonomies"
   ]
  },
  {
   "cell_type": "code",
   "execution_count": 4,
   "metadata": {},
   "outputs": [],
   "source": [
    "composure = objects.Attribute(name='Composure', description='Keeping your cool')\n",
    "synthesis = objects.Attribute(name='Synthesis')\n",
    "synth_situ = objects.Attribute(name='Synthesizing the Situation')\n",
    "synth_time = objects.Attribute(name='Synthesizing through Time')\n",
    "synthesis.members.append(synth_situ)\n",
    "synthesis.members.append(synth_time)"
   ]
  },
  {
   "cell_type": "code",
   "execution_count": 5,
   "metadata": {},
   "outputs": [
    {
     "data": {
      "text/plain": [
       "2 members of type Attribute"
      ]
     },
     "execution_count": 5,
     "metadata": {},
     "output_type": "execute_result"
    }
   ],
   "source": [
    "synthesis.members"
   ]
  },
  {
   "cell_type": "code",
   "execution_count": 6,
   "metadata": {},
   "outputs": [
    {
     "name": "stdout",
     "output_type": "stream",
     "text": [
      "Synthesizing the Situation\n",
      "Synthesizing through Time\n"
     ]
    }
   ],
   "source": [
    "for item in synthesis.members:\n",
    "    print(item.name)"
   ]
  },
  {
   "cell_type": "markdown",
   "metadata": {},
   "source": [
    "#### Define a Meeting"
   ]
  },
  {
   "cell_type": "code",
   "execution_count": 7,
   "metadata": {},
   "outputs": [],
   "source": [
    "weekly_dave_sync = objects.Meeting(name='Weekly Dave Sync', description='Present progress to Dave')\n",
    "question = objects.Question(\n",
    "    name='Status Check', \n",
    "    description='Is the meeting going as expected?', \n",
    "    question_type=objects.QuestionType.BINARY\n",
    ")"
   ]
  },
  {
   "cell_type": "markdown",
   "metadata": {},
   "source": [
    "#### Add Participants"
   ]
  },
  {
   "cell_type": "code",
   "execution_count": 8,
   "metadata": {},
   "outputs": [],
   "source": [
    "for person in research.members:\n",
    "    weekly_dave_sync.participants.append(person)"
   ]
  },
  {
   "cell_type": "markdown",
   "metadata": {},
   "source": [
    "#### Record Responses to a Question"
   ]
  },
  {
   "cell_type": "code",
   "execution_count": 9,
   "metadata": {},
   "outputs": [],
   "source": [
    "response1 = objects.Response(source=vin, target=question, value=True, context=[research, weekly_dave_sync])\n",
    "response2 = objects.Response(source=will, target=question, value=True, context=[research, weekly_dave_sync])\n",
    "response3 = objects.Response(source=alex, target=question, value=False, context=[research, weekly_dave_sync])"
   ]
  },
  {
   "cell_type": "code",
   "execution_count": 10,
   "metadata": {},
   "outputs": [],
   "source": [
    "question.add_responses(response1)\n",
    "question.add_responses(response2)\n",
    "question.add_responses(response3)"
   ]
  },
  {
   "cell_type": "code",
   "execution_count": 11,
   "metadata": {},
   "outputs": [],
   "source": [
    "weekly_dave_sync.questions.append(question)"
   ]
  },
  {
   "cell_type": "markdown",
   "metadata": {},
   "source": [
    "#### Give Feedback in Meeting"
   ]
  },
  {
   "cell_type": "code",
   "execution_count": 12,
   "metadata": {},
   "outputs": [],
   "source": [
    "dot1 = objects.Dot(source=vin, target=blake, measure=composure, value=5, context=[research, weekly_dave_sync])\n",
    "dot2 = objects.Dot(source=vin, target=blake, measure=synth_situ, value=7, context=[research, weekly_dave_sync])\n",
    "dot3 = objects.Dot(source=vin, target=blake, measure=synth_time, value=8, context=[research, weekly_dave_sync])\n",
    "dot4 = objects.Dot(source=will, target=vin, measure=composure, value=4, context=[research, weekly_dave_sync])\n",
    "dot5 = objects.Dot(source=will, target=vin, measure=synthesis, value=7, context=[research, weekly_dave_sync])\n",
    "dot6 = objects.Dot(source=blake, target=chintan, measure=synth_situ, value=7, context=[research, weekly_dave_sync])\n",
    "dot7 = objects.Dot(source=blake, target=chintan, measure=composure, value=4, context=[research, weekly_dave_sync])"
   ]
  },
  {
   "cell_type": "code",
   "execution_count": 13,
   "metadata": {},
   "outputs": [],
   "source": [
    "weekly_dave_sync.dots.append(dot1)\n",
    "weekly_dave_sync.dots.append(dot2)\n",
    "weekly_dave_sync.dots.append(dot3)\n",
    "weekly_dave_sync.dots.append(dot4)\n",
    "weekly_dave_sync.dots.append(dot5)\n",
    "weekly_dave_sync.dots.append(dot6)\n",
    "weekly_dave_sync.dots.append(dot7)"
   ]
  },
  {
   "cell_type": "markdown",
   "metadata": {},
   "source": [
    "#### Synthesize What Happened"
   ]
  },
  {
   "cell_type": "code",
   "execution_count": 14,
   "metadata": {},
   "outputs": [
    {
     "data": {
      "text/plain": [
       "7 members of type Person"
      ]
     },
     "execution_count": 14,
     "metadata": {},
     "output_type": "execute_result"
    }
   ],
   "source": [
    "weekly_dave_sync.participants"
   ]
  },
  {
   "cell_type": "code",
   "execution_count": 15,
   "metadata": {},
   "outputs": [
    {
     "data": {
      "text/plain": [
       "7 members of type Dot"
      ]
     },
     "execution_count": 15,
     "metadata": {},
     "output_type": "execute_result"
    }
   ],
   "source": [
    "weekly_dave_sync.dots"
   ]
  },
  {
   "cell_type": "code",
   "execution_count": 16,
   "metadata": {},
   "outputs": [
    {
     "data": {
      "text/plain": [
       "1 members of type Question"
      ]
     },
     "execution_count": 16,
     "metadata": {},
     "output_type": "execute_result"
    }
   ],
   "source": [
    "weekly_dave_sync.questions"
   ]
  },
  {
   "cell_type": "code",
   "execution_count": 17,
   "metadata": {},
   "outputs": [
    {
     "name": "stdout",
     "output_type": "stream",
     "text": [
      "3 members of type Response\n"
     ]
    }
   ],
   "source": [
    "for question in weekly_dave_sync.questions:\n",
    "    print(question.responses)"
   ]
  },
  {
   "cell_type": "markdown",
   "metadata": {},
   "source": [
    "#### Generate Logic by using Domain Objects"
   ]
  },
  {
   "cell_type": "code",
   "execution_count": 18,
   "metadata": {},
   "outputs": [],
   "source": [
    "def select_dots_from_meeting(original_function):\n",
    "    \"\"\"This decorator selects dots from the Meeting object and\n",
    "    passes it into the decorated function\"\"\"\n",
    "    def new_function(meeting, *args,**kwargs):\n",
    "        dots = meeting.dots.data\n",
    "        return original_function(dots, *args,**kwargs)\n",
    "    return new_function"
   ]
  },
  {
   "cell_type": "code",
   "execution_count": 19,
   "metadata": {},
   "outputs": [],
   "source": [
    "@select_dots_from_meeting\n",
    "def primary_participants_in_meeting_138(dots: objects.Meeting):\n",
    "    \"\"\"\n",
    "    OUTPUT: AssertionSet\n",
    "    INPUT: Dots\n",
    "    CONTEXT: Meeting\n",
    "    INSIGHT: Activity\n",
    "    PROCESSING: Comparing [Person vs. Overall]\n",
    "\n",
    "    * Identifies whether a Person received more than 20% of Dots (or more than 10% of Dots if they receive at least 10 Dots) during a Meeting\n",
    "    * Returns a boolean representing whether a Person is a Primary Participant in a Meeting.\n",
    "    * This is produced by the following operation(s):\n",
    "        * Determines whether a Person is a Primary Participant in a Meeting if either of the following conditions are true:\n",
    "         * Determines whether a Person received more than 20% of Dots in a Meeting\n",
    "         * Determines whether a Person received more than 10% of Dots and more than 10 Dots in a Meeting\n",
    "    \"\"\"\n",
    "    total_participation = len(dots)\n",
    "    dots.sort(key=lambda x: x.source.name, reverse=False)\n",
    "    for person, dots in groupby(dots, lambda x: x.target):\n",
    "        person_dots = len(list(dots))\n",
    "        if ((person_dots / total_participation) > 0.2) or (person_dots > 10 and ((person_dots / total_participation) > 0.1)):\n",
    "            yield objects.Judgement(source='System', target=person, value=True)\n",
    "        else:\n",
    "            yield objects.Judgement(source='System', target=person, value=False)"
   ]
  },
  {
   "cell_type": "code",
   "execution_count": 20,
   "metadata": {},
   "outputs": [],
   "source": [
    "results = primary_participants_in_meeting_138(weekly_dave_sync)"
   ]
  },
  {
   "cell_type": "code",
   "execution_count": 21,
   "metadata": {},
   "outputs": [
    {
     "name": "stdout",
     "output_type": "stream",
     "text": [
      "System Chintan True\n",
      "System Blake True\n",
      "System Vin True\n"
     ]
    }
   ],
   "source": [
    "for result in results:\n",
    "    print(result.source, result.target.name, result.value)"
   ]
  },
  {
   "cell_type": "code",
   "execution_count": 22,
   "metadata": {},
   "outputs": [
    {
     "data": {
      "text/plain": [
       "0.2857142857142857"
      ]
     },
     "execution_count": 22,
     "metadata": {},
     "output_type": "execute_result"
    }
   ],
   "source": [
    "2/7"
   ]
  },
  {
   "cell_type": "code",
   "execution_count": null,
   "metadata": {},
   "outputs": [],
   "source": []
  }
 ],
 "metadata": {
  "kernelspec": {
   "display_name": "Python 3",
   "language": "python",
   "name": "python3"
  },
  "language_info": {
   "codemirror_mode": {
    "name": "ipython",
    "version": 3
   },
   "file_extension": ".py",
   "mimetype": "text/x-python",
   "name": "python",
   "nbconvert_exporter": "python",
   "pygments_lexer": "ipython3",
   "version": "3.7.2"
  }
 },
 "nbformat": 4,
 "nbformat_minor": 2
}
