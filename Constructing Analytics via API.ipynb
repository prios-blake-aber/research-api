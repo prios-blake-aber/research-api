{
 "cells": [
  {
   "cell_type": "code",
   "execution_count": 9,
   "metadata": {},
   "outputs": [],
   "source": [
    "import pandas as pd\n",
    "import numpy as np"
   ]
  },
  {
   "cell_type": "code",
   "execution_count": 2,
   "metadata": {},
   "outputs": [
    {
     "data": {
      "text/html": [
       "<div>\n",
       "<style scoped>\n",
       "    .dataframe tbody tr th:only-of-type {\n",
       "        vertical-align: middle;\n",
       "    }\n",
       "\n",
       "    .dataframe tbody tr th {\n",
       "        vertical-align: top;\n",
       "    }\n",
       "\n",
       "    .dataframe thead th {\n",
       "        text-align: right;\n",
       "    }\n",
       "</style>\n",
       "<table border=\"1\" class=\"dataframe\">\n",
       "  <thead>\n",
       "    <tr style=\"text-align: right;\">\n",
       "      <th></th>\n",
       "      <th>implementation_id</th>\n",
       "      <th>analytic</th>\n",
       "      <th>version</th>\n",
       "      <th>key_points</th>\n",
       "      <th>OUTPUT</th>\n",
       "      <th>INPUT</th>\n",
       "      <th>CONTEXT</th>\n",
       "      <th>INSIGHT</th>\n",
       "      <th>PROCESSING</th>\n",
       "    </tr>\n",
       "  </thead>\n",
       "  <tbody>\n",
       "    <tr>\n",
       "      <th>0</th>\n",
       "      <td>161</td>\n",
       "      <td>Action is Polarizing</td>\n",
       "      <td>v1</td>\n",
       "      <td>* Identifies Meeting Tracker Actions in a Meet...</td>\n",
       "      <td>Person-Attribute-Relations</td>\n",
       "      <td>Dots</td>\n",
       "      <td>Meeting</td>\n",
       "      <td>Disagreement</td>\n",
       "      <td>Context-Only</td>\n",
       "    </tr>\n",
       "    <tr>\n",
       "      <th>1</th>\n",
       "      <td>158</td>\n",
       "      <td>Action Relevance</td>\n",
       "      <td>v1</td>\n",
       "      <td>* Defines a “Relevance” score for the Meeting ...</td>\n",
       "      <td>Person-Attribute-Relations</td>\n",
       "      <td>Dots</td>\n",
       "      <td>Meeting</td>\n",
       "      <td>Sentiment</td>\n",
       "      <td>Context-Only</td>\n",
       "    </tr>\n",
       "    <tr>\n",
       "      <th>2</th>\n",
       "      <td>156</td>\n",
       "      <td>Actions in Meeting</td>\n",
       "      <td>v1</td>\n",
       "      <td>* Selects Meeting Tracker Actions performed by...</td>\n",
       "      <td>Person-Attribute-Relations</td>\n",
       "      <td>Dots</td>\n",
       "      <td>Meeting</td>\n",
       "      <td>Activity</td>\n",
       "      <td>Context-Only</td>\n",
       "    </tr>\n",
       "    <tr>\n",
       "      <th>3</th>\n",
       "      <td>1</td>\n",
       "      <td>All Stream</td>\n",
       "      <td>Simple_v1</td>\n",
       "      <td>* Estimates a Person's score on an Attribute b...</td>\n",
       "      <td>Person-Attribute-Relations</td>\n",
       "      <td>Streams</td>\n",
       "      <td>NaN</td>\n",
       "      <td>Synthesis</td>\n",
       "      <td>Context-Only</td>\n",
       "    </tr>\n",
       "    <tr>\n",
       "      <th>4</th>\n",
       "      <td>155</td>\n",
       "      <td>Attention Participant Received</td>\n",
       "      <td>v1</td>\n",
       "      <td>* Calculates the total number of Dots one Pers...</td>\n",
       "      <td>Person</td>\n",
       "      <td>Dots</td>\n",
       "      <td>Meeting</td>\n",
       "      <td>Activity</td>\n",
       "      <td>Context-Only</td>\n",
       "    </tr>\n",
       "  </tbody>\n",
       "</table>\n",
       "</div>"
      ],
      "text/plain": [
       "   implementation_id                        analytic    version  \\\n",
       "0                161            Action is Polarizing         v1   \n",
       "1                158                Action Relevance         v1   \n",
       "2                156              Actions in Meeting         v1   \n",
       "3                  1                      All Stream  Simple_v1   \n",
       "4                155  Attention Participant Received         v1   \n",
       "\n",
       "                                          key_points  \\\n",
       "0  * Identifies Meeting Tracker Actions in a Meet...   \n",
       "1  * Defines a “Relevance” score for the Meeting ...   \n",
       "2  * Selects Meeting Tracker Actions performed by...   \n",
       "3  * Estimates a Person's score on an Attribute b...   \n",
       "4  * Calculates the total number of Dots one Pers...   \n",
       "\n",
       "                       OUTPUT    INPUT  CONTEXT       INSIGHT    PROCESSING  \n",
       "0  Person-Attribute-Relations     Dots  Meeting  Disagreement  Context-Only  \n",
       "1  Person-Attribute-Relations     Dots  Meeting     Sentiment  Context-Only  \n",
       "2  Person-Attribute-Relations     Dots  Meeting      Activity  Context-Only  \n",
       "3  Person-Attribute-Relations  Streams      NaN     Synthesis  Context-Only  \n",
       "4                      Person     Dots  Meeting      Activity  Context-Only  "
      ]
     },
     "execution_count": 2,
     "metadata": {},
     "output_type": "execute_result"
    }
   ],
   "source": [
    "df = pd.read_csv('current_analytics.csv')\n",
    "df.head()"
   ]
  },
  {
   "cell_type": "code",
   "execution_count": 27,
   "metadata": {},
   "outputs": [
    {
     "data": {
      "text/plain": [
       "(80, 9)"
      ]
     },
     "execution_count": 27,
     "metadata": {},
     "output_type": "execute_result"
    }
   ],
   "source": [
    "df.shape"
   ]
  },
  {
   "cell_type": "code",
   "execution_count": 26,
   "metadata": {},
   "outputs": [
    {
     "data": {
      "text/plain": [
       "array(['def believable_choice_130(Question): pass',\n",
       "       'def consensus_exists_131(Question): pass'], dtype=object)"
      ]
     },
     "execution_count": 26,
     "metadata": {},
     "output_type": "execute_result"
    }
   ],
   "source": [
    "# def replace_context(x):\n",
    "#     if np.isnan(x):\n",
    "#         return ''\n",
    "#     else:\n",
    "#         return x.replace(' ', '_').replace('-', '_')\n",
    "\n",
    "df[df['INSIGHT'] == 'Consensus'].apply(\n",
    "    lambda row: 'def {n}_{i}({c}): pass'.format(\n",
    "        n='_'.join(row['analytic'].lower().split()), \n",
    "        i=row['implementation_id'],\n",
    "        c=row['CONTEXT']\n",
    "    ),\n",
    "    axis=1\n",
    ").values"
   ]
  },
  {
   "cell_type": "code",
   "execution_count": null,
   "metadata": {},
   "outputs": [],
   "source": []
  }
 ],
 "metadata": {
  "kernelspec": {
   "display_name": "Python 3",
   "language": "python",
   "name": "python3"
  },
  "language_info": {
   "codemirror_mode": {
    "name": "ipython",
    "version": 3
   },
   "file_extension": ".py",
   "mimetype": "text/x-python",
   "name": "python",
   "nbconvert_exporter": "python",
   "pygments_lexer": "ipython3",
   "version": "3.7.2"
  }
 },
 "nbformat": 4,
 "nbformat_minor": 2
}
